{
 "cells": [
  {
   "cell_type": "markdown",
   "id": "dca4b9cb",
   "metadata": {},
   "source": [
    "<details><summary style=\"display:list-item; font-size:16px; color:blue;\">Jupyter Help</summary>\n",
    "    \n",
    "Having trouble testing your work? Double-check that you have followed the steps below to write, run, save, and test your code!\n",
    "    \n",
    "[Click here for a walkthrough GIF of the steps below](https://static-assets.codecademy.com/Courses/ds-python/jupyter-help.gif)\n",
    "\n",
    "Run all initial cells to import libraries and datasets. Then follow these steps for each question:\n",
    "    \n",
    "1. Add your solution to the cell with `## YOUR SOLUTION HERE ## `.\n",
    "2. Run the cell by selecting the `Run` button or the `Shift`+`Enter` keys.\n",
    "3. Save your work by selecting the `Save` button, the `command`+`s` keys (Mac), or `control`+`s` keys (Windows).\n",
    "4. Select the `Test Work` button at the bottom left to test your work.\n",
    "\n",
    "![Screenshot of the buttons at the top of a Jupyter Notebook. The Run and Save buttons are highlighted](https://static-assets.codecademy.com/Paths/ds-python/jupyter-buttons.png)"
   ]
  },
  {
   "cell_type": "markdown",
   "id": "4c609b12",
   "metadata": {},
   "source": [
    "#### Setup"
   ]
  },
  {
   "cell_type": "markdown",
   "id": "bc03ef08",
   "metadata": {},
   "source": [
    "Start by running the cell below to import `pandas` and import the exercise datasets."
   ]
  },
  {
   "cell_type": "code",
   "execution_count": 10,
   "id": "047d9dc9",
   "metadata": {
    "deletable": false,
    "tags": [
     "setup"
    ]
   },
   "outputs": [
    {
     "data": {
      "text/plain": [
       "(         date home_team         away_team  location_id  scores_id\n",
       " 0  1872-11-30  Scotland           England            0          0\n",
       " 1  1914-02-28  Scotland             Wales            0          0\n",
       " 2  1946-11-27  Scotland  Northern Ireland            0          0\n",
       " 3  1965-05-08  Scotland             Spain            0          0\n",
       " 4  1970-04-22  Scotland             Wales            0          0,\n",
       "    id  home_score  away_score\n",
       " 0   0           0           0\n",
       " 1   1           2           1\n",
       " 2   2           3           0\n",
       " 3   3           4           0\n",
       " 4   4           7           2)"
      ]
     },
     "execution_count": 10,
     "metadata": {},
     "output_type": "execute_result"
    }
   ],
   "source": [
    "import pandas as pd\n",
    "games = pd.read_csv('games.csv')\n",
    "scores = pd.read_csv('scores.csv')\n",
    "locations = pd.read_csv('locations.csv')\n",
    "games.head(), scores.head()"
   ]
  },
  {
   "cell_type": "markdown",
   "id": "4d1e28fa",
   "metadata": {},
   "source": [
    "#### Narrative Example"
   ]
  },
  {
   "cell_type": "markdown",
   "id": "fb9d3bfa",
   "metadata": {},
   "source": [
    "The cell below generates the example from the exercise narrative. Run the code to see how pandas performs the merge. Feel free to experiment with the different options!"
   ]
  },
  {
   "cell_type": "code",
   "execution_count": 2,
   "id": "a098d4d4",
   "metadata": {},
   "outputs": [
    {
     "data": {
      "text/html": [
       "<div>\n",
       "<style scoped>\n",
       "    .dataframe tbody tr th:only-of-type {\n",
       "        vertical-align: middle;\n",
       "    }\n",
       "\n",
       "    .dataframe tbody tr th {\n",
       "        vertical-align: top;\n",
       "    }\n",
       "\n",
       "    .dataframe thead th {\n",
       "        text-align: right;\n",
       "    }\n",
       "</style>\n",
       "<table border=\"1\" class=\"dataframe\">\n",
       "  <thead>\n",
       "    <tr style=\"text-align: right;\">\n",
       "      <th></th>\n",
       "      <th>Category</th>\n",
       "      <th>Value_x</th>\n",
       "      <th>Value_y</th>\n",
       "    </tr>\n",
       "  </thead>\n",
       "  <tbody>\n",
       "    <tr>\n",
       "      <th>0</th>\n",
       "      <td>B</td>\n",
       "      <td>2</td>\n",
       "      <td>3</td>\n",
       "    </tr>\n",
       "  </tbody>\n",
       "</table>\n",
       "</div>"
      ],
      "text/plain": [
       "  Category  Value_x  Value_y\n",
       "0        B        2        3"
      ]
     },
     "execution_count": 2,
     "metadata": {},
     "output_type": "execute_result"
    }
   ],
   "source": [
    "X = pd.DataFrame({'Category':['A','B'], 'Value':[1,2]})\n",
    "Y = pd.DataFrame({'Category':['B','C'], 'Value':[3,4]})\n",
    "\n",
    "pd.merge(left = X, right = Y, left_on = 'Category', right_on='Category', how='inner')"
   ]
  },
  {
   "cell_type": "markdown",
   "id": "3308a40d",
   "metadata": {},
   "source": [
    "#### 1. Inner Merge `games` and `scores`"
   ]
  },
  {
   "cell_type": "markdown",
   "id": "079e0e0c",
   "metadata": {},
   "source": [
    "Perform an inner merge with the DataFrames `games` and `scores`. The left DataFrame should be `games`, and the columns being matched should be `scores_id` and `id`.\n",
    "\n",
    "Save the result as `merged_df`.\n",
    "\n",
    "Make sure to run the solution cell and save the notebook before selecting `Test Work`."
   ]
  },
  {
   "cell_type": "code",
   "execution_count": 3,
   "id": "b318baec",
   "metadata": {
    "deletable": false,
    "tags": [
     "cp1"
    ]
   },
   "outputs": [
    {
     "data": {
      "text/html": [
       "<div>\n",
       "<style scoped>\n",
       "    .dataframe tbody tr th:only-of-type {\n",
       "        vertical-align: middle;\n",
       "    }\n",
       "\n",
       "    .dataframe tbody tr th {\n",
       "        vertical-align: top;\n",
       "    }\n",
       "\n",
       "    .dataframe thead th {\n",
       "        text-align: right;\n",
       "    }\n",
       "</style>\n",
       "<table border=\"1\" class=\"dataframe\">\n",
       "  <thead>\n",
       "    <tr style=\"text-align: right;\">\n",
       "      <th></th>\n",
       "      <th>date</th>\n",
       "      <th>home_team</th>\n",
       "      <th>away_team</th>\n",
       "      <th>location_id</th>\n",
       "      <th>scores_id</th>\n",
       "      <th>id</th>\n",
       "      <th>home_score</th>\n",
       "      <th>away_score</th>\n",
       "    </tr>\n",
       "  </thead>\n",
       "  <tbody>\n",
       "    <tr>\n",
       "      <th>0</th>\n",
       "      <td>1872-11-30</td>\n",
       "      <td>Scotland</td>\n",
       "      <td>England</td>\n",
       "      <td>0</td>\n",
       "      <td>0</td>\n",
       "      <td>0</td>\n",
       "      <td>0</td>\n",
       "      <td>0</td>\n",
       "    </tr>\n",
       "    <tr>\n",
       "      <th>1</th>\n",
       "      <td>1914-02-28</td>\n",
       "      <td>Scotland</td>\n",
       "      <td>Wales</td>\n",
       "      <td>0</td>\n",
       "      <td>0</td>\n",
       "      <td>0</td>\n",
       "      <td>0</td>\n",
       "      <td>0</td>\n",
       "    </tr>\n",
       "    <tr>\n",
       "      <th>2</th>\n",
       "      <td>1946-11-27</td>\n",
       "      <td>Scotland</td>\n",
       "      <td>Northern Ireland</td>\n",
       "      <td>0</td>\n",
       "      <td>0</td>\n",
       "      <td>0</td>\n",
       "      <td>0</td>\n",
       "      <td>0</td>\n",
       "    </tr>\n",
       "    <tr>\n",
       "      <th>3</th>\n",
       "      <td>1965-05-08</td>\n",
       "      <td>Scotland</td>\n",
       "      <td>Spain</td>\n",
       "      <td>0</td>\n",
       "      <td>0</td>\n",
       "      <td>0</td>\n",
       "      <td>0</td>\n",
       "      <td>0</td>\n",
       "    </tr>\n",
       "    <tr>\n",
       "      <th>4</th>\n",
       "      <td>1970-04-22</td>\n",
       "      <td>Scotland</td>\n",
       "      <td>Wales</td>\n",
       "      <td>0</td>\n",
       "      <td>0</td>\n",
       "      <td>0</td>\n",
       "      <td>0</td>\n",
       "      <td>0</td>\n",
       "    </tr>\n",
       "  </tbody>\n",
       "</table>\n",
       "</div>"
      ],
      "text/plain": [
       "         date home_team         away_team  location_id  scores_id  id  \\\n",
       "0  1872-11-30  Scotland           England            0          0   0   \n",
       "1  1914-02-28  Scotland             Wales            0          0   0   \n",
       "2  1946-11-27  Scotland  Northern Ireland            0          0   0   \n",
       "3  1965-05-08  Scotland             Spain            0          0   0   \n",
       "4  1970-04-22  Scotland             Wales            0          0   0   \n",
       "\n",
       "   home_score  away_score  \n",
       "0           0           0  \n",
       "1           0           0  \n",
       "2           0           0  \n",
       "3           0           0  \n",
       "4           0           0  "
      ]
     },
     "execution_count": 3,
     "metadata": {},
     "output_type": "execute_result"
    }
   ],
   "source": [
    "## YOUR SOLUTION HERE ##\n",
    "merged_df = pd.merge(left = games,\n",
    "         right = scores,\n",
    "         left_on = 'scores_id',\n",
    "         right_on = 'id',\n",
    "         how = 'inner')\n",
    "\n",
    "# show output\n",
    "merged_df.head()"
   ]
  },
  {
   "cell_type": "markdown",
   "id": "33cbcd4b",
   "metadata": {},
   "source": [
    "#### 2. Post-merge Analysis"
   ]
  },
  {
   "cell_type": "markdown",
   "id": "6a172e5e",
   "metadata": {},
   "source": [
    "Now that we've merged the two tables, we can run analyses using all our data! For example, run the code in the cell below to see which team has scored the most home goals in a single game.\n",
    "\n",
    "Make sure to run the solution cell and save the notebook before selecting `Test Work`."
   ]
  },
  {
   "cell_type": "code",
   "execution_count": 11,
   "id": "e73ed471",
   "metadata": {
    "deletable": false,
    "tags": [
     "cp2"
    ]
   },
   "outputs": [
    {
     "data": {
      "text/html": [
       "<div>\n",
       "<style scoped>\n",
       "    .dataframe tbody tr th:only-of-type {\n",
       "        vertical-align: middle;\n",
       "    }\n",
       "\n",
       "    .dataframe tbody tr th {\n",
       "        vertical-align: top;\n",
       "    }\n",
       "\n",
       "    .dataframe thead th {\n",
       "        text-align: right;\n",
       "    }\n",
       "</style>\n",
       "<table border=\"1\" class=\"dataframe\">\n",
       "  <thead>\n",
       "    <tr style=\"text-align: right;\">\n",
       "      <th></th>\n",
       "      <th>date</th>\n",
       "      <th>home_team</th>\n",
       "      <th>away_team</th>\n",
       "      <th>location_id</th>\n",
       "      <th>scores_id</th>\n",
       "      <th>id</th>\n",
       "      <th>home_score</th>\n",
       "      <th>away_score</th>\n",
       "    </tr>\n",
       "  </thead>\n",
       "  <tbody>\n",
       "    <tr>\n",
       "      <th>44349</th>\n",
       "      <td>2001-04-11</td>\n",
       "      <td>Australia</td>\n",
       "      <td>American Samoa</td>\n",
       "      <td>1261</td>\n",
       "      <td>128</td>\n",
       "      <td>128</td>\n",
       "      <td>31</td>\n",
       "      <td>0</td>\n",
       "    </tr>\n",
       "    <tr>\n",
       "      <th>44320</th>\n",
       "      <td>1971-09-13</td>\n",
       "      <td>Tahiti</td>\n",
       "      <td>Cook Islands</td>\n",
       "      <td>333</td>\n",
       "      <td>112</td>\n",
       "      <td>112</td>\n",
       "      <td>30</td>\n",
       "      <td>0</td>\n",
       "    </tr>\n",
       "    <tr>\n",
       "      <th>44340</th>\n",
       "      <td>1979-08-30</td>\n",
       "      <td>Fiji</td>\n",
       "      <td>Kiribati</td>\n",
       "      <td>648</td>\n",
       "      <td>123</td>\n",
       "      <td>123</td>\n",
       "      <td>24</td>\n",
       "      <td>0</td>\n",
       "    </tr>\n",
       "    <tr>\n",
       "      <th>44348</th>\n",
       "      <td>2001-04-09</td>\n",
       "      <td>Australia</td>\n",
       "      <td>Tonga</td>\n",
       "      <td>1261</td>\n",
       "      <td>127</td>\n",
       "      <td>127</td>\n",
       "      <td>22</td>\n",
       "      <td>0</td>\n",
       "    </tr>\n",
       "    <tr>\n",
       "      <th>44330</th>\n",
       "      <td>1966-04-03</td>\n",
       "      <td>Libya</td>\n",
       "      <td>Oman</td>\n",
       "      <td>380</td>\n",
       "      <td>118</td>\n",
       "      <td>118</td>\n",
       "      <td>21</td>\n",
       "      <td>0</td>\n",
       "    </tr>\n",
       "  </tbody>\n",
       "</table>\n",
       "</div>"
      ],
      "text/plain": [
       "             date  home_team       away_team  location_id  scores_id   id  \\\n",
       "44349  2001-04-11  Australia  American Samoa         1261        128  128   \n",
       "44320  1971-09-13     Tahiti    Cook Islands          333        112  112   \n",
       "44340  1979-08-30       Fiji        Kiribati          648        123  123   \n",
       "44348  2001-04-09  Australia           Tonga         1261        127  127   \n",
       "44330  1966-04-03      Libya            Oman          380        118  118   \n",
       "\n",
       "       home_score  away_score  \n",
       "44349          31           0  \n",
       "44320          30           0  \n",
       "44340          24           0  \n",
       "44348          22           0  \n",
       "44330          21           0  "
      ]
     },
     "execution_count": 11,
     "metadata": {},
     "output_type": "execute_result"
    }
   ],
   "source": [
    "merged_df.sort_values(by='home_score', ascending=False).head()"
   ]
  },
  {
   "cell_type": "markdown",
   "id": "3a281e9c",
   "metadata": {},
   "source": [
    "#### 3. Inner Merge `merged_df` and `locations`"
   ]
  },
  {
   "cell_type": "markdown",
   "id": "8d481799",
   "metadata": {},
   "source": [
    "We have another `ID` column in `games` called `location_id`. This column connects to a `locations` table that tells us where each game occurred. We've printed the `locations` table in the first cell below.\n",
    "\n",
    "In the following cell, perform an inner merge on `merged_df` and `locations`. The left DataFrame should be `merged_df`. The columns being matched should be `location_id` and `id`.\n",
    "\n",
    "Assign the result of the merge to `full_df`. Where did the largest home score (from the prior checkpoint) occur?\n",
    "\n",
    "Make sure to run the solution cell and save the notebook before selecting `Test Work`."
   ]
  },
  {
   "cell_type": "code",
   "execution_count": 12,
   "id": "89bc365f",
   "metadata": {},
   "outputs": [
    {
     "data": {
      "text/html": [
       "<div>\n",
       "<style scoped>\n",
       "    .dataframe tbody tr th:only-of-type {\n",
       "        vertical-align: middle;\n",
       "    }\n",
       "\n",
       "    .dataframe tbody tr th {\n",
       "        vertical-align: top;\n",
       "    }\n",
       "\n",
       "    .dataframe thead th {\n",
       "        text-align: right;\n",
       "    }\n",
       "</style>\n",
       "<table border=\"1\" class=\"dataframe\">\n",
       "  <thead>\n",
       "    <tr style=\"text-align: right;\">\n",
       "      <th></th>\n",
       "      <th>id</th>\n",
       "      <th>city</th>\n",
       "      <th>country</th>\n",
       "    </tr>\n",
       "  </thead>\n",
       "  <tbody>\n",
       "    <tr>\n",
       "      <th>0</th>\n",
       "      <td>0</td>\n",
       "      <td>Glasgow</td>\n",
       "      <td>Scotland</td>\n",
       "    </tr>\n",
       "    <tr>\n",
       "      <th>1</th>\n",
       "      <td>1</td>\n",
       "      <td>London</td>\n",
       "      <td>England</td>\n",
       "    </tr>\n",
       "    <tr>\n",
       "      <th>2</th>\n",
       "      <td>2</td>\n",
       "      <td>Wrexham</td>\n",
       "      <td>Wales</td>\n",
       "    </tr>\n",
       "    <tr>\n",
       "      <th>3</th>\n",
       "      <td>3</td>\n",
       "      <td>Blackburn</td>\n",
       "      <td>England</td>\n",
       "    </tr>\n",
       "    <tr>\n",
       "      <th>4</th>\n",
       "      <td>4</td>\n",
       "      <td>Belfast</td>\n",
       "      <td>Ireland</td>\n",
       "    </tr>\n",
       "  </tbody>\n",
       "</table>\n",
       "</div>"
      ],
      "text/plain": [
       "   id       city   country\n",
       "0   0    Glasgow  Scotland\n",
       "1   1     London   England\n",
       "2   2    Wrexham     Wales\n",
       "3   3  Blackburn   England\n",
       "4   4    Belfast   Ireland"
      ]
     },
     "execution_count": 12,
     "metadata": {},
     "output_type": "execute_result"
    }
   ],
   "source": [
    "locations.head()"
   ]
  },
  {
   "cell_type": "code",
   "execution_count": 13,
   "id": "4ddf801b",
   "metadata": {
    "deletable": false,
    "tags": [
     "cp3"
    ]
   },
   "outputs": [
    {
     "data": {
      "text/html": [
       "<div>\n",
       "<style scoped>\n",
       "    .dataframe tbody tr th:only-of-type {\n",
       "        vertical-align: middle;\n",
       "    }\n",
       "\n",
       "    .dataframe tbody tr th {\n",
       "        vertical-align: top;\n",
       "    }\n",
       "\n",
       "    .dataframe thead th {\n",
       "        text-align: right;\n",
       "    }\n",
       "</style>\n",
       "<table border=\"1\" class=\"dataframe\">\n",
       "  <thead>\n",
       "    <tr style=\"text-align: right;\">\n",
       "      <th></th>\n",
       "      <th>date</th>\n",
       "      <th>home_team</th>\n",
       "      <th>away_team</th>\n",
       "      <th>location_id</th>\n",
       "      <th>scores_id</th>\n",
       "      <th>id_x</th>\n",
       "      <th>home_score</th>\n",
       "      <th>away_score</th>\n",
       "      <th>id_y</th>\n",
       "      <th>city</th>\n",
       "      <th>country</th>\n",
       "    </tr>\n",
       "  </thead>\n",
       "  <tbody>\n",
       "    <tr>\n",
       "      <th>43794</th>\n",
       "      <td>2001-04-11</td>\n",
       "      <td>Australia</td>\n",
       "      <td>American Samoa</td>\n",
       "      <td>1261</td>\n",
       "      <td>128</td>\n",
       "      <td>128</td>\n",
       "      <td>31</td>\n",
       "      <td>0</td>\n",
       "      <td>1261</td>\n",
       "      <td>Coffs Harbour</td>\n",
       "      <td>Australia</td>\n",
       "    </tr>\n",
       "    <tr>\n",
       "      <th>18829</th>\n",
       "      <td>1971-09-13</td>\n",
       "      <td>Tahiti</td>\n",
       "      <td>Cook Islands</td>\n",
       "      <td>333</td>\n",
       "      <td>112</td>\n",
       "      <td>112</td>\n",
       "      <td>30</td>\n",
       "      <td>0</td>\n",
       "      <td>333</td>\n",
       "      <td>Papeete</td>\n",
       "      <td>French Polynesia</td>\n",
       "    </tr>\n",
       "    <tr>\n",
       "      <th>42031</th>\n",
       "      <td>1979-08-30</td>\n",
       "      <td>Fiji</td>\n",
       "      <td>Kiribati</td>\n",
       "      <td>648</td>\n",
       "      <td>123</td>\n",
       "      <td>123</td>\n",
       "      <td>24</td>\n",
       "      <td>0</td>\n",
       "      <td>648</td>\n",
       "      <td>Nausori</td>\n",
       "      <td>Fiji</td>\n",
       "    </tr>\n",
       "    <tr>\n",
       "      <th>43793</th>\n",
       "      <td>2001-04-09</td>\n",
       "      <td>Australia</td>\n",
       "      <td>Tonga</td>\n",
       "      <td>1261</td>\n",
       "      <td>127</td>\n",
       "      <td>127</td>\n",
       "      <td>22</td>\n",
       "      <td>0</td>\n",
       "      <td>1261</td>\n",
       "      <td>Coffs Harbour</td>\n",
       "      <td>Australia</td>\n",
       "    </tr>\n",
       "    <tr>\n",
       "      <th>21737</th>\n",
       "      <td>1966-04-03</td>\n",
       "      <td>Libya</td>\n",
       "      <td>Oman</td>\n",
       "      <td>380</td>\n",
       "      <td>118</td>\n",
       "      <td>118</td>\n",
       "      <td>21</td>\n",
       "      <td>0</td>\n",
       "      <td>380</td>\n",
       "      <td>Baghdad</td>\n",
       "      <td>Iraq</td>\n",
       "    </tr>\n",
       "  </tbody>\n",
       "</table>\n",
       "</div>"
      ],
      "text/plain": [
       "             date  home_team       away_team  location_id  scores_id  id_x  \\\n",
       "43794  2001-04-11  Australia  American Samoa         1261        128   128   \n",
       "18829  1971-09-13     Tahiti    Cook Islands          333        112   112   \n",
       "42031  1979-08-30       Fiji        Kiribati          648        123   123   \n",
       "43793  2001-04-09  Australia           Tonga         1261        127   127   \n",
       "21737  1966-04-03      Libya            Oman          380        118   118   \n",
       "\n",
       "       home_score  away_score  id_y           city           country  \n",
       "43794          31           0  1261  Coffs Harbour         Australia  \n",
       "18829          30           0   333        Papeete  French Polynesia  \n",
       "42031          24           0   648        Nausori              Fiji  \n",
       "43793          22           0  1261  Coffs Harbour         Australia  \n",
       "21737          21           0   380        Baghdad              Iraq  "
      ]
     },
     "execution_count": 13,
     "metadata": {},
     "output_type": "execute_result"
    }
   ],
   "source": [
    "## YOUR SOLUTION HERE ##\n",
    "full_df = pd.merge(left = merged_df,\n",
    "         right = locations,\n",
    "         left_on = 'location_id',\n",
    "         right_on = 'id',\n",
    "         how = 'inner')\n",
    "\n",
    "# show output\n",
    "full_df.sort_values(by='home_score', ascending=False).head()"
   ]
  },
  {
   "cell_type": "code",
   "execution_count": null,
   "id": "e0146c69",
   "metadata": {},
   "outputs": [],
   "source": []
  }
 ],
 "metadata": {
  "kernelspec": {
   "display_name": "Python 3 (ipykernel)",
   "language": "python",
   "name": "python3"
  },
  "language_info": {
   "codemirror_mode": {
    "name": "ipython",
    "version": 3
   },
   "file_extension": ".py",
   "mimetype": "text/x-python",
   "name": "python",
   "nbconvert_exporter": "python",
   "pygments_lexer": "ipython3",
   "version": "3.8.10"
  }
 },
 "nbformat": 4,
 "nbformat_minor": 5
}
