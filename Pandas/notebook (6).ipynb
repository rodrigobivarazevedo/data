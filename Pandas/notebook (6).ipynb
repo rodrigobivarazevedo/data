{
 "cells": [
  {
   "cell_type": "markdown",
   "id": "4c609b12",
   "metadata": {},
   "source": [
    "<details><summary style=\"display:list-item; font-size:16px; color:blue;\">Jupyter Help</summary>\n",
    "    \n",
    "Having trouble testing your work? Double-check that you have followed the steps below to write, run, save, and test your code!\n",
    "    \n",
    "[Click here for a walkthrough GIF of the steps below](https://static-assets.codecademy.com/Courses/ds-python/jupyter-help.gif)\n",
    "\n",
    "Run all initial cells to import libraries and datasets. Then follow these steps for each question:\n",
    "    \n",
    "1. Add your solution to the cell with `## YOUR SOLUTION HERE ## `.\n",
    "2. Run the cell by selecting the `Run` button or the `Shift`+`Enter` keys.\n",
    "3. Save your work by selecting the `Save` button, the `command`+`s` keys (Mac), or `control`+`s` keys (Windows).\n",
    "4. Select the `Test Work` button at the bottom left to test your work.\n",
    "\n",
    "![Screenshot of the buttons at the top of a Jupyter Notebook. The Run and Save buttons are highlighted](https://static-assets.codecademy.com/Paths/ds-python/jupyter-buttons.png)"
   ]
  },
  {
   "cell_type": "markdown",
   "id": "da422531",
   "metadata": {},
   "source": [
    "#### Setup"
   ]
  },
  {
   "cell_type": "markdown",
   "id": "581068b7",
   "metadata": {},
   "source": [
    "Start by running the cell below to import `pandas` and the `results.csv` dataset."
   ]
  },
  {
   "cell_type": "code",
   "execution_count": 1,
   "id": "047d9dc9",
   "metadata": {
    "deletable": false,
    "tags": [
     "setup"
    ]
   },
   "outputs": [
    {
     "data": {
      "text/html": [
       "<div>\n",
       "<style scoped>\n",
       "    .dataframe tbody tr th:only-of-type {\n",
       "        vertical-align: middle;\n",
       "    }\n",
       "\n",
       "    .dataframe tbody tr th {\n",
       "        vertical-align: top;\n",
       "    }\n",
       "\n",
       "    .dataframe thead th {\n",
       "        text-align: right;\n",
       "    }\n",
       "</style>\n",
       "<table border=\"1\" class=\"dataframe\">\n",
       "  <thead>\n",
       "    <tr style=\"text-align: right;\">\n",
       "      <th></th>\n",
       "      <th>date</th>\n",
       "      <th>year</th>\n",
       "      <th>home_team</th>\n",
       "      <th>away_team</th>\n",
       "      <th>home_score</th>\n",
       "      <th>away_score</th>\n",
       "      <th>total_goals</th>\n",
       "      <th>win_margin</th>\n",
       "      <th>tournament</th>\n",
       "      <th>city</th>\n",
       "      <th>country</th>\n",
       "      <th>neutral</th>\n",
       "    </tr>\n",
       "  </thead>\n",
       "  <tbody>\n",
       "    <tr>\n",
       "      <th>0</th>\n",
       "      <td>2000-01-04</td>\n",
       "      <td>2000</td>\n",
       "      <td>Egypt</td>\n",
       "      <td>Togo</td>\n",
       "      <td>2</td>\n",
       "      <td>1</td>\n",
       "      <td>3</td>\n",
       "      <td>1</td>\n",
       "      <td>Friendly</td>\n",
       "      <td>Aswan</td>\n",
       "      <td>Egypt</td>\n",
       "      <td>False</td>\n",
       "    </tr>\n",
       "    <tr>\n",
       "      <th>1</th>\n",
       "      <td>2000-01-07</td>\n",
       "      <td>2000</td>\n",
       "      <td>Tunisia</td>\n",
       "      <td>Togo</td>\n",
       "      <td>7</td>\n",
       "      <td>0</td>\n",
       "      <td>7</td>\n",
       "      <td>7</td>\n",
       "      <td>Friendly</td>\n",
       "      <td>Tunis</td>\n",
       "      <td>Tunisia</td>\n",
       "      <td>False</td>\n",
       "    </tr>\n",
       "    <tr>\n",
       "      <th>2</th>\n",
       "      <td>2000-01-08</td>\n",
       "      <td>2000</td>\n",
       "      <td>Trinidad and Tobago</td>\n",
       "      <td>Canada</td>\n",
       "      <td>0</td>\n",
       "      <td>0</td>\n",
       "      <td>0</td>\n",
       "      <td>0</td>\n",
       "      <td>Friendly</td>\n",
       "      <td>Port of Spain</td>\n",
       "      <td>Trinidad and Tobago</td>\n",
       "      <td>False</td>\n",
       "    </tr>\n",
       "    <tr>\n",
       "      <th>3</th>\n",
       "      <td>2000-01-09</td>\n",
       "      <td>2000</td>\n",
       "      <td>Burkina Faso</td>\n",
       "      <td>Gabon</td>\n",
       "      <td>1</td>\n",
       "      <td>1</td>\n",
       "      <td>2</td>\n",
       "      <td>0</td>\n",
       "      <td>Friendly</td>\n",
       "      <td>Ouagadougou</td>\n",
       "      <td>Burkina Faso</td>\n",
       "      <td>False</td>\n",
       "    </tr>\n",
       "    <tr>\n",
       "      <th>4</th>\n",
       "      <td>2000-01-09</td>\n",
       "      <td>2000</td>\n",
       "      <td>Guatemala</td>\n",
       "      <td>Armenia</td>\n",
       "      <td>1</td>\n",
       "      <td>1</td>\n",
       "      <td>2</td>\n",
       "      <td>0</td>\n",
       "      <td>Friendly</td>\n",
       "      <td>Los Angeles</td>\n",
       "      <td>United States</td>\n",
       "      <td>True</td>\n",
       "    </tr>\n",
       "  </tbody>\n",
       "</table>\n",
       "</div>"
      ],
      "text/plain": [
       "         date  year            home_team away_team  home_score  away_score  \\\n",
       "0  2000-01-04  2000                Egypt      Togo           2           1   \n",
       "1  2000-01-07  2000              Tunisia      Togo           7           0   \n",
       "2  2000-01-08  2000  Trinidad and Tobago    Canada           0           0   \n",
       "3  2000-01-09  2000         Burkina Faso     Gabon           1           1   \n",
       "4  2000-01-09  2000            Guatemala   Armenia           1           1   \n",
       "\n",
       "   total_goals  win_margin tournament           city              country  \\\n",
       "0            3           1   Friendly          Aswan                Egypt   \n",
       "1            7           7   Friendly          Tunis              Tunisia   \n",
       "2            0           0   Friendly  Port of Spain  Trinidad and Tobago   \n",
       "3            2           0   Friendly    Ouagadougou         Burkina Faso   \n",
       "4            2           0   Friendly    Los Angeles        United States   \n",
       "\n",
       "   neutral  \n",
       "0    False  \n",
       "1    False  \n",
       "2    False  \n",
       "3    False  \n",
       "4     True  "
      ]
     },
     "execution_count": 1,
     "metadata": {},
     "output_type": "execute_result"
    }
   ],
   "source": [
    "import pandas as pd\n",
    "\n",
    "results = pd.read_csv('results.csv')\n",
    "results.head()"
   ]
  },
  {
   "cell_type": "markdown",
   "id": "8fecfda5",
   "metadata": {},
   "source": [
    "#### Narrative Example"
   ]
  },
  {
   "cell_type": "markdown",
   "id": "16f4f2c7",
   "metadata": {},
   "source": [
    "The cells below generate the examples from the exercise narrative."
   ]
  },
  {
   "cell_type": "code",
   "execution_count": 2,
   "id": "9348c472",
   "metadata": {},
   "outputs": [
    {
     "data": {
      "text/plain": [
       "count    17095.000000\n",
       "mean         2.642820\n",
       "std          1.845359\n",
       "min          0.000000\n",
       "25%          1.000000\n",
       "50%          2.000000\n",
       "75%          4.000000\n",
       "max         31.000000\n",
       "Name: total_goals, dtype: float64"
      ]
     },
     "execution_count": 2,
     "metadata": {},
     "output_type": "execute_result"
    }
   ],
   "source": [
    "results['total_goals'].describe()"
   ]
  },
  {
   "cell_type": "code",
   "execution_count": 3,
   "id": "8c60e77b",
   "metadata": {},
   "outputs": [
    {
     "data": {
      "text/plain": [
       "45179"
      ]
     },
     "execution_count": 3,
     "metadata": {},
     "output_type": "execute_result"
    }
   ],
   "source": [
    "results['total_goals'].sum()"
   ]
  },
  {
   "cell_type": "code",
   "execution_count": 4,
   "id": "ddcffc28",
   "metadata": {},
   "outputs": [
    {
     "data": {
      "text/plain": [
       "home_score    27293\n",
       "away_score    17886\n",
       "dtype: int64"
      ]
     },
     "execution_count": 4,
     "metadata": {},
     "output_type": "execute_result"
    }
   ],
   "source": [
    "results[['home_score', 'away_score']].sum()"
   ]
  },
  {
   "cell_type": "markdown",
   "id": "079e0e0c",
   "metadata": {},
   "source": [
    "**1. Number of unique countries**"
   ]
  },
  {
   "cell_type": "markdown",
   "id": "7220fccc",
   "metadata": {},
   "source": [
    " Count the number of unique countries in `results` and save the count to a variable named `unique_countries`. "
   ]
  },
  {
   "cell_type": "code",
   "execution_count": 5,
   "id": "b318baec",
   "metadata": {
    "deletable": false,
    "tags": [
     "cp1"
    ]
   },
   "outputs": [
    {
     "data": {
      "text/plain": [
       "225"
      ]
     },
     "execution_count": 5,
     "metadata": {},
     "output_type": "execute_result"
    }
   ],
   "source": [
    "## YOUR SOLUTION HERE ##\n",
    "unique_countries = results['country'].nunique()\n",
    "\n",
    "# show output\n",
    "unique_countries"
   ]
  },
  {
   "cell_type": "markdown",
   "id": "8d481799",
   "metadata": {},
   "source": [
    "**2. Mean number of goals by the home and away teams**"
   ]
  },
  {
   "cell_type": "markdown",
   "id": "736dc06a",
   "metadata": {},
   "source": [
    "Compute \n",
    "\n",
    "- the mean number of goals scored by the home teams overall\n",
    "- the mean number of goals scored by the away teams overall\n",
    "\n",
    "Save both these values to a variable named `mean_goals`."
   ]
  },
  {
   "cell_type": "code",
   "execution_count": 6,
   "id": "4ddf801b",
   "metadata": {
    "deletable": false,
    "tags": [
     "cp3"
    ]
   },
   "outputs": [
    {
     "name": "stdout",
     "output_type": "stream",
     "text": [
      "home_score    1.596549\n",
      "away_score    1.046271\n",
      "dtype: float64\n"
     ]
    }
   ],
   "source": [
    "## YOUR SOLUTION HERE ##\n",
    "mean_goals = results[['home_score','away_score']].mean()\n",
    "\n",
    "# show output\n",
    "print(mean_goals)"
   ]
  }
 ],
 "metadata": {
  "kernelspec": {
   "display_name": "Python 3 (ipykernel)",
   "language": "python",
   "name": "python3"
  },
  "language_info": {
   "codemirror_mode": {
    "name": "ipython",
    "version": 3
   },
   "file_extension": ".py",
   "mimetype": "text/x-python",
   "name": "python",
   "nbconvert_exporter": "python",
   "pygments_lexer": "ipython3",
   "version": "3.8.10"
  }
 },
 "nbformat": 4,
 "nbformat_minor": 5
}
