{
 "cells": [
  {
   "attachments": {},
   "cell_type": "markdown",
   "metadata": {},
   "source": [
    "# Exercise 1"
   ]
  },
  {
   "attachments": {},
   "cell_type": "markdown",
   "metadata": {},
   "source": [
    "Your local university's Raptors fan club maintains a register of its active members on a .txt document. Every month they update the file by removing the members who are not active. You have been tasked with automating this with your Python skills. <br>\n",
    "Given the file `currentMem`, Remove each member with a 'no' in their Active column. Keep track of each of the removed members and append them to the `exMem` file. Make sure that the format of the original files in preserved.   (*Hint: Do this by reading/writing whole lines and ensuring the header remains* )\n",
    "<br>\n",
    "Run the code block below prior to starting the exercise. The skeleton code has been provided for you. Edit only the `cleanFiles` function."
   ]
  },
  {
   "cell_type": "code",
   "execution_count": null,
   "metadata": {},
   "outputs": [],
   "source": [
    "from random import randint as rnd  # Importing the `randint` function from the `random` module and assigning it the alias `rnd`\n",
    "\n",
    "memReg = 'members.txt'  # Filename for the current members file\n",
    "exReg = 'inactive.txt'  # Filename for the inactive members file\n",
    "fee = ('yes', 'no')  # Tuple representing membership fees: 'yes' for active, 'no' for inactive\n",
    "\n",
    "def genFiles(current, old):\n",
    "    with open(current, 'w+') as writefile:  # Opening the current members file in write mode ('w+')\n",
    "        writefile.write('Membership No  Date Joined  Active  \\n')  # Writing a header line to the current members file\n",
    "        data = \"{:^13}  {:<11}  {:<6}\\n\"  # String format template for the membership record data\n",
    "\n",
    "        for rowno in range(20):  # Generating 20 membership records\n",
    "            date = str(rnd(2015, 2020)) + '-' + str(rnd(1, 12)) + '-' + str(rnd(1, 25))  # Generating a random date\n",
    "            writefile.write(data.format(rnd(10000, 99999), date, fee[rnd(0, 1)]))  # Writing formatted record to the current members file\n",
    "\n",
    "    with open(old, 'w+') as writefile:  # Opening the inactive members file in write mode ('w+')\n",
    "        writefile.write('Membership No  Date Joined  Active  \\n')  # Writing a header line to the inactive members file\n",
    "        data = \"{:^13}  {:<11}  {:<6}\\n\"  # String format template for the membership record data\n",
    "\n",
    "        for rowno in range(3):  # Generating 3 inactive membership records\n",
    "            date = str(rnd(2015, 2020)) + '-' + str(rnd(1, 12)) + '-' + str(rnd(1, 25))  # Generating a random date\n",
    "            writefile.write(data.format(rnd(10000, 99999), date, fee[1]))  # Writing formatted record with 'no' fee status to the inactive members file\n",
    "\n",
    "genFiles(memReg, exReg)  # Calling the genFiles function with the filenames for the current and inactive members files\n",
    "\n"
   ]
  },
  {
   "attachments": {},
   "cell_type": "markdown",
   "metadata": {},
   "source": [
    "Now that you've run the prerequisite code cell above, which prepared the files for this exercise, you are ready to move on to the implementation.\n",
    "\n",
    "#### **Exercise:** Implement the cleanFiles function in the code cell below.\n"
   ]
  },
  {
   "cell_type": "code",
   "execution_count": null,
   "metadata": {},
   "outputs": [],
   "source": [
    "'''\n",
    "The two arguments for this function are the files:\n",
    "    - currentMem: File containing list of current members\n",
    "    - exMem: File containing list of old members\n",
    "    \n",
    "    This function should remove all rows from currentMem containing 'no' \n",
    "    in the 'Active' column and appends them to exMem.\n",
    "    '''\n",
    "def cleanFiles(currentMem, exMem):\n",
    "    # TODO: Open the currentMem file as in r+ mode\n",
    "    with open(currentMem, \"r+\") as currentFile:\n",
    "        \n",
    "       #TODO: Open the exMem file in a+ mode\n",
    "        with open(exMem, \"a+\") as exFile:\n",
    "     \n",
    "            #TODO: Read each member in the currentMem (1 member per row) file into a list.\n",
    "            # Hint: Recall that the first line in the file is the header.\n",
    "            next(currentMem) # skip first line\n",
    "            members_list = currentMem.readlines()   # Read all lines and save as a list\n",
    "\n",
    "            #TODO: iterate through the members and create a new list of the innactive members\n",
    "            innactive_members = []\n",
    "            for current_member in members_list:\n",
    "                if \"no\" in current_member:\n",
    "                    innactive_members.append(current_member)\n",
    "\n",
    "            # Go to the beginning of the currentMem file\n",
    "            currentMem.seek(0)  \n",
    "            currentFile.truncate()  # Clear the file contents\n",
    "\n",
    "           # TODO: Iterate through the members list. \n",
    "           # If a member is inactive, add them to exMem, otherwise write them into currentMem\n",
    "            for member in members_list:\n",
    "                if member in inactive_members:\n",
    "                    exFile.write(member)\n",
    "                else:\n",
    "                    currentFile.write(member)"
   ]
  },
  {
   "attachments": {},
   "cell_type": "markdown",
   "metadata": {},
   "source": [
    "Best solution"
   ]
  },
  {
   "cell_type": "code",
   "execution_count": null,
   "metadata": {},
   "outputs": [],
   "source": [
    "def cleanFiles(currentMem,exMem):\n",
    "    with open(currentMem,'r+') as writeFile: \n",
    "        with open(exMem,'a+') as appendFile:\n",
    "            #get the data\n",
    "            writeFile.seek(0)\n",
    "            members = writeFile.readlines()\n",
    "            #remove header\n",
    "            header = members[0]\n",
    "            members.pop(0)\n",
    "                \n",
    "            inactive = [member for member in members if ('no' in member)]\n",
    "            '''\n",
    "            The above is the same as \n",
    "\n",
    "            for member in members:\n",
    "            if 'no' in member:\n",
    "                inactive.append(member)\n",
    "            '''\n",
    "            #go to the beginning of the write file\n",
    "            writeFile.seek(0) \n",
    "            writeFile.write(header)\n",
    "            for member in members:\n",
    "                if (member in inactive):\n",
    "                    appendFile.write(member)\n",
    "                else:\n",
    "                    writeFile.write(member)      \n",
    "            writeFile.truncate()\n",
    "    "
   ]
  },
  {
   "attachments": {},
   "cell_type": "markdown",
   "metadata": {},
   "source": [
    "In the given code, `writeFile.truncate()` is used at the end of the `cleanFiles` function to clear any remaining contents in the `writeFile` after the modifications have been made. Let's understand the purpose and need for using `writeFile.truncate()` in this context.\n",
    "\n",
    "1. Reading and Filtering Members:\n",
    "   The code starts by opening `currentMem` file in `'r+'` mode to read and write. It reads all the lines from the file into the `members` list, excluding the header line.\n",
    "\n",
    "2. Filtering Inactive Members:\n",
    "   The code filters out the inactive members from the `members` list using a list comprehension. It checks if the string `'no'` is present in each member's line. The resulting inactive members are stored in the `inactive` list.\n",
    "\n",
    "3. Rewriting Files:\n",
    "   The code then goes back to the beginning of the `writeFile` using `writeFile.seek(0)` to overwrite the file with the modified data. It first writes back the header line using `writeFile.write(header)`.\n",
    "\n",
    "   Next, the code iterates over each member in the `members` list. If the member is found in the `inactive` list, it is appended to the `appendFile` using `appendFile.write(member)`. Otherwise, it is written back to the `writeFile` using `writeFile.write(member)`.\n",
    "\n",
    "4. Truncating the File:\n",
    "   Finally, after all modifications have been made to the `writeFile`, `writeFile.truncate()` is called. This operation truncates the file to the current position, effectively discarding any remaining content in the file.\n",
    "\n",
    "The purpose of using `writeFile.truncate()` at the end is to ensure that any previous content beyond the current modified data is removed. This step guarantees that the `writeFile` accurately reflects the new updated data without any leftover content from previous executions of the code.\n",
    "\n",
    "Without `writeFile.truncate()`, any content that was present beyond the current modified data in the `writeFile` would remain intact, potentially causing inconsistency or duplication if the code is executed multiple times. Hence, `writeFile.truncate()` is used to clean up and ensure the file contains only the relevant and updated data.\n"
   ]
  },
  {
   "attachments": {},
   "cell_type": "markdown",
   "metadata": {},
   "source": [
    "# Write method"
   ]
  },
  {
   "attachments": {},
   "cell_type": "markdown",
   "metadata": {},
   "source": [
    "When you use the `write` method, it appends the specified content to the file at the current position or overwrites the content from the current position onwards.\n",
    "\n",
    "Here are a few important points to understand:\n",
    "\n",
    "- Opening a file in write mode (`'w'`) or write/update mode (`'r+'` or `'w+'`) will truncate the file's contents to an empty state before any write operations are performed. In other words, if you open a file in write mode and start writing, it will overwrite the entire file from the beginning.\n",
    "\n",
    "- If you open a file in append mode (`'a'`) or append/update mode (`'a+'`), the `write` method will append the specified content to the end of the file, regardless of the current position.\n",
    "\n",
    "- If you open a file in read/update mode (`'r+'`), the `write` method will overwrite the content starting from the current position. If the content you are writing is shorter than the existing content, the remaining content after the current position will not be automatically deleted.\n",
    "\n",
    "To overwrite the entire content of a file using the `write` method, you can either open the file in write mode (`'w'`) or use the `truncate` method to clear the file's contents before writing the new content.\n"
   ]
  },
  {
   "attachments": {},
   "cell_type": "markdown",
   "metadata": {},
   "source": [
    "# Truncate()"
   ]
  },
  {
   "attachments": {},
   "cell_type": "markdown",
   "metadata": {},
   "source": [
    "Using `truncate()` before writing and using it after writing serve different purposes and have different effects on the file content.\n",
    "\n",
    "**Using `truncate()` before writing:**\n",
    "\n",
    "If you use `truncate()` before writing, it clears the file's contents up to the current position, effectively removing all existing content from that position onwards.\n",
    "- This is useful when you want to overwrite the existing content completely and start fresh. It ensures that any previous content beyond the current position is removed.\n",
    "\n",
    "**Using `truncate()` after writing:**\n",
    "\n",
    "If you use `truncate()` after writing, it clears the file's contents from the current position onwards.\n",
    "- This is useful when you want to remove any remaining content in the file after performing modifications or updates.\n",
    "- It ensures that the file accurately reflects the new updated data without any leftover content from previous executions.\n",
    "\n",
    "The placement of `truncate()` determines which part of the file is affected by the truncation. If you use `truncate()` before writing, it clears content from the beginning up to the current position. If you use it after writing, it clears content from the current position onwards.\n",
    "\n",
    "In summary, the effect of using `truncate()` before or after writing depends on your desired outcome. If you want to overwrite the entire file content, use `truncate()` before writing. If you want to remove any remaining content after modifications, use `truncate()` after writing.\n"
   ]
  },
  {
   "cell_type": "code",
   "execution_count": null,
   "metadata": {},
   "outputs": [],
   "source": []
  },
  {
   "cell_type": "code",
   "execution_count": null,
   "metadata": {},
   "outputs": [],
   "source": []
  }
 ],
 "metadata": {
  "kernelspec": {
   "display_name": "Python 3",
   "language": "python",
   "name": "python3"
  },
  "language_info": {
   "name": "python",
   "version": "3.10.10"
  },
  "orig_nbformat": 4
 },
 "nbformat": 4,
 "nbformat_minor": 2
}
