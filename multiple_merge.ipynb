{
 "cells": [
  {
   "cell_type": "markdown",
   "id": "5ff1817a",
   "metadata": {},
   "source": [
    "<details><summary style=\"display:list-item; font-size:16px; color:blue;\">Jupyter Help</summary>\n",
    "    \n",
    "Having trouble testing your work? Double-check that you have followed the steps below to write, run, save, and test your code!\n",
    "    \n",
    "[Click here for a walkthrough GIF of the steps below](https://static-assets.codecademy.com/Courses/ds-python/jupyter-help.gif)\n",
    "\n",
    "Run all initial cells to import libraries and datasets. Then follow these steps for each question:\n",
    "    \n",
    "1. Add your solution to the cell with `## YOUR SOLUTION HERE ## `.\n",
    "2. Run the cell by selecting the `Run` button or the `Shift`+`Enter` keys.\n",
    "3. Save your work by selecting the `Save` button, the `command`+`s` keys (Mac), or `control`+`s` keys (Windows).\n",
    "4. Select the `Test Work` button at the bottom left to test your work.\n",
    "\n",
    "![Screenshot of the buttons at the top of a Jupyter Notebook. The Run and Save buttons are highlighted](https://static-assets.codecademy.com/Paths/ds-python/jupyter-buttons.png)"
   ]
  },
  {
   "cell_type": "markdown",
   "id": "4c609b12",
   "metadata": {},
   "source": [
    "#### Setup"
   ]
  },
  {
   "cell_type": "markdown",
   "id": "aae7c542",
   "metadata": {},
   "source": [
    "Start by running the cell below to import `pandas` and import the exercise datasets."
   ]
  },
  {
   "cell_type": "code",
   "execution_count": 7,
   "id": "047d9dc9",
   "metadata": {
    "deletable": false,
    "tags": [
     "setup"
    ]
   },
   "outputs": [
    {
     "data": {
      "text/plain": [
       "(    game_date  home_team away_team       team            scorer  minute  \\\n",
       " 0  1916-07-02      Chile   Uruguay    Uruguay   José Piendibene    44.0   \n",
       " 1  1916-07-02      Chile   Uruguay    Uruguay  Isabelino Gradín    55.0   \n",
       " 2  1916-07-02      Chile   Uruguay    Uruguay  Isabelino Gradín    70.0   \n",
       " 3  1916-07-02      Chile   Uruguay    Uruguay   José Piendibene    75.0   \n",
       " 4  1916-07-06  Argentina     Chile  Argentina     Alberto Ohaco     2.0   \n",
       " \n",
       "    own_goal  penalty  \n",
       " 0     False    False  \n",
       " 1     False    False  \n",
       " 2     False    False  \n",
       " 3     False    False  \n",
       " 4     False    False  ,\n",
       "   shootout_date    home_team         away_team       winner\n",
       " 0    1967-08-22        India            Taiwan       Taiwan\n",
       " 1    1971-11-14  South Korea  Vietnam Republic  South Korea\n",
       " 2    1972-05-07  South Korea              Iraq         Iraq\n",
       " 3    1972-05-17     Thailand       South Korea  South Korea\n",
       " 4    1972-05-19     Thailand          Cambodia     Thailand)"
      ]
     },
     "execution_count": 7,
     "metadata": {},
     "output_type": "execute_result"
    }
   ],
   "source": [
    "import pandas as pd\n",
    "shootouts = pd.read_csv('shootouts.csv')\n",
    "goals = pd.read_csv('goalscorers.csv')\n",
    "goals.head(),shootouts.head()"
   ]
  },
  {
   "cell_type": "markdown",
   "id": "bc134e87",
   "metadata": {},
   "source": [
    "#### 1. Merge `shootouts` and `goals`"
   ]
  },
  {
   "cell_type": "markdown",
   "id": "079e0e0c",
   "metadata": {},
   "source": [
    "We've added a new DataFrame named `goals` that records every goal scored during each game, before any penalty shootout. \n",
    "\n",
    "Perform a left merge with `shootouts` on the left and `goals` on the right. Use the date, home, and away team columns to correctly match shootouts with the in-game goals data in `goals`."
   ]
  },
  {
   "cell_type": "code",
   "execution_count": 6,
   "id": "b318baec",
   "metadata": {
    "deletable": false,
    "tags": [
     "cp1"
    ]
   },
   "outputs": [
    {
     "data": {
      "text/html": [
       "<div>\n",
       "<style scoped>\n",
       "    .dataframe tbody tr th:only-of-type {\n",
       "        vertical-align: middle;\n",
       "    }\n",
       "\n",
       "    .dataframe tbody tr th {\n",
       "        vertical-align: top;\n",
       "    }\n",
       "\n",
       "    .dataframe thead th {\n",
       "        text-align: right;\n",
       "    }\n",
       "</style>\n",
       "<table border=\"1\" class=\"dataframe\">\n",
       "  <thead>\n",
       "    <tr style=\"text-align: right;\">\n",
       "      <th></th>\n",
       "      <th>shootout_date</th>\n",
       "      <th>home_team</th>\n",
       "      <th>away_team</th>\n",
       "      <th>winner</th>\n",
       "      <th>game_date</th>\n",
       "      <th>team</th>\n",
       "      <th>scorer</th>\n",
       "      <th>minute</th>\n",
       "      <th>own_goal</th>\n",
       "      <th>penalty</th>\n",
       "    </tr>\n",
       "  </thead>\n",
       "  <tbody>\n",
       "    <tr>\n",
       "      <th>0</th>\n",
       "      <td>1967-08-22</td>\n",
       "      <td>India</td>\n",
       "      <td>Taiwan</td>\n",
       "      <td>Taiwan</td>\n",
       "      <td>NaN</td>\n",
       "      <td>NaN</td>\n",
       "      <td>NaN</td>\n",
       "      <td>NaN</td>\n",
       "      <td>NaN</td>\n",
       "      <td>NaN</td>\n",
       "    </tr>\n",
       "    <tr>\n",
       "      <th>1</th>\n",
       "      <td>1971-11-14</td>\n",
       "      <td>South Korea</td>\n",
       "      <td>Vietnam Republic</td>\n",
       "      <td>South Korea</td>\n",
       "      <td>NaN</td>\n",
       "      <td>NaN</td>\n",
       "      <td>NaN</td>\n",
       "      <td>NaN</td>\n",
       "      <td>NaN</td>\n",
       "      <td>NaN</td>\n",
       "    </tr>\n",
       "    <tr>\n",
       "      <th>2</th>\n",
       "      <td>1972-05-07</td>\n",
       "      <td>South Korea</td>\n",
       "      <td>Iraq</td>\n",
       "      <td>Iraq</td>\n",
       "      <td>NaN</td>\n",
       "      <td>NaN</td>\n",
       "      <td>NaN</td>\n",
       "      <td>NaN</td>\n",
       "      <td>NaN</td>\n",
       "      <td>NaN</td>\n",
       "    </tr>\n",
       "    <tr>\n",
       "      <th>3</th>\n",
       "      <td>1972-05-17</td>\n",
       "      <td>Thailand</td>\n",
       "      <td>South Korea</td>\n",
       "      <td>South Korea</td>\n",
       "      <td>1972-05-17</td>\n",
       "      <td>Thailand</td>\n",
       "      <td>Prapon Tantariyanond</td>\n",
       "      <td>98.0</td>\n",
       "      <td>False</td>\n",
       "      <td>False</td>\n",
       "    </tr>\n",
       "    <tr>\n",
       "      <th>4</th>\n",
       "      <td>1972-05-17</td>\n",
       "      <td>Thailand</td>\n",
       "      <td>South Korea</td>\n",
       "      <td>South Korea</td>\n",
       "      <td>1972-05-17</td>\n",
       "      <td>South Korea</td>\n",
       "      <td>Park Lee-chun</td>\n",
       "      <td>115.0</td>\n",
       "      <td>False</td>\n",
       "      <td>False</td>\n",
       "    </tr>\n",
       "  </tbody>\n",
       "</table>\n",
       "</div>"
      ],
      "text/plain": [
       "  shootout_date    home_team         away_team       winner   game_date  \\\n",
       "0    1967-08-22        India            Taiwan       Taiwan         NaN   \n",
       "1    1971-11-14  South Korea  Vietnam Republic  South Korea         NaN   \n",
       "2    1972-05-07  South Korea              Iraq         Iraq         NaN   \n",
       "3    1972-05-17     Thailand       South Korea  South Korea  1972-05-17   \n",
       "4    1972-05-17     Thailand       South Korea  South Korea  1972-05-17   \n",
       "\n",
       "          team                scorer  minute own_goal penalty  \n",
       "0          NaN                   NaN     NaN      NaN     NaN  \n",
       "1          NaN                   NaN     NaN      NaN     NaN  \n",
       "2          NaN                   NaN     NaN      NaN     NaN  \n",
       "3     Thailand  Prapon Tantariyanond    98.0    False   False  \n",
       "4  South Korea         Park Lee-chun   115.0    False   False  "
      ]
     },
     "execution_count": 6,
     "metadata": {},
     "output_type": "execute_result"
    }
   ],
   "source": [
    "## YOUR SOLUTION HERE ##\n",
    "merged_df = pd.merge(left = shootouts,\n",
    "         right = goals,\n",
    "         left_on = ['shootout_date','home_team', 'away_team'],\n",
    "         right_on = ['game_date','home_team', 'away_team'],\n",
    "         how = 'left')\n",
    "\n",
    "# show output\n",
    "merged_df.head()"
   ]
  },
  {
   "cell_type": "markdown",
   "id": "789cb961",
   "metadata": {},
   "source": [
    "#### 2. Post-Merge Analysis"
   ]
  },
  {
   "cell_type": "markdown",
   "id": "6a172e5e",
   "metadata": {},
   "source": [
    "It looks like not all games have goal-by-goal data. Run the cell below to view all the goals -- and the penalty shootout winner -- from the 2022 Men's World Cup Final."
   ]
  },
  {
   "cell_type": "code",
   "execution_count": 8,
   "id": "e73ed471",
   "metadata": {
    "deletable": false,
    "tags": [
     "cp2"
    ]
   },
   "outputs": [
    {
     "data": {
      "text/html": [
       "<div>\n",
       "<style scoped>\n",
       "    .dataframe tbody tr th:only-of-type {\n",
       "        vertical-align: middle;\n",
       "    }\n",
       "\n",
       "    .dataframe tbody tr th {\n",
       "        vertical-align: top;\n",
       "    }\n",
       "\n",
       "    .dataframe thead th {\n",
       "        text-align: right;\n",
       "    }\n",
       "</style>\n",
       "<table border=\"1\" class=\"dataframe\">\n",
       "  <thead>\n",
       "    <tr style=\"text-align: right;\">\n",
       "      <th></th>\n",
       "      <th>shootout_date</th>\n",
       "      <th>home_team</th>\n",
       "      <th>away_team</th>\n",
       "      <th>winner</th>\n",
       "      <th>game_date</th>\n",
       "      <th>team</th>\n",
       "      <th>scorer</th>\n",
       "      <th>minute</th>\n",
       "      <th>own_goal</th>\n",
       "      <th>penalty</th>\n",
       "    </tr>\n",
       "  </thead>\n",
       "  <tbody>\n",
       "    <tr>\n",
       "      <th>742</th>\n",
       "      <td>2022-12-18</td>\n",
       "      <td>Argentina</td>\n",
       "      <td>France</td>\n",
       "      <td>Argentina</td>\n",
       "      <td>2022-12-18</td>\n",
       "      <td>Argentina</td>\n",
       "      <td>Lionel Messi</td>\n",
       "      <td>23.0</td>\n",
       "      <td>False</td>\n",
       "      <td>True</td>\n",
       "    </tr>\n",
       "    <tr>\n",
       "      <th>743</th>\n",
       "      <td>2022-12-18</td>\n",
       "      <td>Argentina</td>\n",
       "      <td>France</td>\n",
       "      <td>Argentina</td>\n",
       "      <td>2022-12-18</td>\n",
       "      <td>Argentina</td>\n",
       "      <td>Ángel Di María</td>\n",
       "      <td>36.0</td>\n",
       "      <td>False</td>\n",
       "      <td>False</td>\n",
       "    </tr>\n",
       "    <tr>\n",
       "      <th>744</th>\n",
       "      <td>2022-12-18</td>\n",
       "      <td>Argentina</td>\n",
       "      <td>France</td>\n",
       "      <td>Argentina</td>\n",
       "      <td>2022-12-18</td>\n",
       "      <td>France</td>\n",
       "      <td>Kylian Mbappé</td>\n",
       "      <td>80.0</td>\n",
       "      <td>False</td>\n",
       "      <td>True</td>\n",
       "    </tr>\n",
       "    <tr>\n",
       "      <th>745</th>\n",
       "      <td>2022-12-18</td>\n",
       "      <td>Argentina</td>\n",
       "      <td>France</td>\n",
       "      <td>Argentina</td>\n",
       "      <td>2022-12-18</td>\n",
       "      <td>France</td>\n",
       "      <td>Kylian Mbappé</td>\n",
       "      <td>81.0</td>\n",
       "      <td>False</td>\n",
       "      <td>False</td>\n",
       "    </tr>\n",
       "    <tr>\n",
       "      <th>746</th>\n",
       "      <td>2022-12-18</td>\n",
       "      <td>Argentina</td>\n",
       "      <td>France</td>\n",
       "      <td>Argentina</td>\n",
       "      <td>2022-12-18</td>\n",
       "      <td>Argentina</td>\n",
       "      <td>Lionel Messi</td>\n",
       "      <td>109.0</td>\n",
       "      <td>False</td>\n",
       "      <td>False</td>\n",
       "    </tr>\n",
       "    <tr>\n",
       "      <th>747</th>\n",
       "      <td>2022-12-18</td>\n",
       "      <td>Argentina</td>\n",
       "      <td>France</td>\n",
       "      <td>Argentina</td>\n",
       "      <td>2022-12-18</td>\n",
       "      <td>France</td>\n",
       "      <td>Kylian Mbappé</td>\n",
       "      <td>118.0</td>\n",
       "      <td>False</td>\n",
       "      <td>True</td>\n",
       "    </tr>\n",
       "  </tbody>\n",
       "</table>\n",
       "</div>"
      ],
      "text/plain": [
       "    shootout_date  home_team away_team     winner   game_date       team  \\\n",
       "742    2022-12-18  Argentina    France  Argentina  2022-12-18  Argentina   \n",
       "743    2022-12-18  Argentina    France  Argentina  2022-12-18  Argentina   \n",
       "744    2022-12-18  Argentina    France  Argentina  2022-12-18     France   \n",
       "745    2022-12-18  Argentina    France  Argentina  2022-12-18     France   \n",
       "746    2022-12-18  Argentina    France  Argentina  2022-12-18  Argentina   \n",
       "747    2022-12-18  Argentina    France  Argentina  2022-12-18     France   \n",
       "\n",
       "             scorer  minute own_goal penalty  \n",
       "742    Lionel Messi    23.0    False    True  \n",
       "743  Ángel Di María    36.0    False   False  \n",
       "744   Kylian Mbappé    80.0    False    True  \n",
       "745   Kylian Mbappé    81.0    False   False  \n",
       "746    Lionel Messi   109.0    False   False  \n",
       "747   Kylian Mbappé   118.0    False    True  "
      ]
     },
     "execution_count": 8,
     "metadata": {},
     "output_type": "execute_result"
    }
   ],
   "source": [
    "## YOUR SOLUTION HERE ##\n",
    "merged_df[merged_df['shootout_date'] == '2022-12-18']"
   ]
  },
  {
   "cell_type": "code",
   "execution_count": null,
   "id": "9f7038f1",
   "metadata": {},
   "outputs": [],
   "source": []
  }
 ],
 "metadata": {
  "kernelspec": {
   "display_name": "Python 3 (ipykernel)",
   "language": "python",
   "name": "python3"
  },
  "language_info": {
   "codemirror_mode": {
    "name": "ipython",
    "version": 3
   },
   "file_extension": ".py",
   "mimetype": "text/x-python",
   "name": "python",
   "nbconvert_exporter": "python",
   "pygments_lexer": "ipython3",
   "version": "3.8.10"
  }
 },
 "nbformat": 4,
 "nbformat_minor": 5
}
