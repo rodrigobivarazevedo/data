{
 "cells": [
  {
   "attachments": {},
   "cell_type": "markdown",
   "metadata": {},
   "source": [
    "# working with data using Pandas\n",
    "\n",
    "## Selecting data in a Dataframe"
   ]
  },
  {
   "attachments": {},
   "cell_type": "markdown",
   "metadata": {},
   "source": [
    "### Exercise 1: Pandas: DataFrame and Series \n",
    "\n",
    "**Pandas** is a popular library for data analysis built on top of the Python programming language. Pandas generally provide two data structures for manipulating data, They are: \n",
    " \n",
    "* DataFrame\n",
    "* Series\n",
    "\n",
    "A **DataFrame** is a two-dimensional data structure, i.e., data is aligned in a tabular fashion in rows and columns.\n",
    "\n",
    "* A Pandas DataFrame will be created by loading the datasets from existing storage. \n",
    "* Storage can be SQL Database, CSV file, an Excel file, etc. \n",
    "* It can also be created from the lists, dictionary, and from a list of dictionaries.\n",
    "\n",
    "**Series** represents a one-dimensional array of indexed data.\n",
    "It has two main components :\n",
    "1. An array of actual data.\n",
    "2. An associated array of indexes or data labels.\n",
    "\n",
    "The index is used to access individual data values. You can also get a column of a dataframe as a **Series**. You can think of a Pandas series as a 1-D dataframe. \n"
   ]
  },
  {
   "cell_type": "code",
   "execution_count": null,
   "metadata": {},
   "outputs": [],
   "source": []
  },
  {
   "cell_type": "code",
   "execution_count": null,
   "metadata": {},
   "outputs": [],
   "source": [
    "# let us import the Pandas Library\n",
    "import pandas as pd"
   ]
  },
  {
   "attachments": {},
   "cell_type": "markdown",
   "metadata": {},
   "source": [
    "Let us consider a dictionary 'x' with keys and values as shown below.\n",
    "\n",
    "We then create a dataframe from the dictionary using the function pd.DataFrame(dict)"
   ]
  },
  {
   "cell_type": "code",
   "execution_count": null,
   "metadata": {},
   "outputs": [],
   "source": [
    "#Define a dictionary 'x'\n",
    "\n",
    "x = {'Name': ['Rose','John', 'Jane', 'Mary'], 'ID': [1, 2, 3, 4], 'Department': ['Architect Group', 'Software Group', 'Design Team', 'Infrastructure'], \n",
    "      'Salary':[100000, 80000, 50000, 60000]}\n",
    "\n",
    "#casting the dictionary to a DataFrame\n",
    "df = pd.DataFrame(x)\n",
    "\n",
    "#display the result df\n",
    "df"
   ]
  },
  {
   "attachments": {},
   "cell_type": "markdown",
   "metadata": {},
   "source": [
    "We can see the direct correspondence between the table. The keys correspond to the column labels and the values or lists corresponding to the rows."
   ]
  },
  {
   "attachments": {},
   "cell_type": "markdown",
   "metadata": {},
   "source": [
    "#### Column Selection:\n",
    "\n",
    "To select a column in Pandas DataFrame, we can either access the columns by calling them by their columns name. \n",
    "\n",
    "Let's Retrieve the data present in the <code>ID</code> column."
   ]
  },
  {
   "cell_type": "code",
   "execution_count": null,
   "metadata": {},
   "outputs": [],
   "source": [
    "#Retrieving the \"ID\" column and assigning it to a variable x\n",
    "x = df[['ID']]\n",
    "x"
   ]
  },
  {
   "cell_type": "code",
   "execution_count": null,
   "metadata": {},
   "outputs": [],
   "source": [
    "#Retrieving the Department, Salary and ID columns and assigning it to a variable z\n",
    "\n",
    "z = df[['Department','Salary','ID']]\n",
    "z"
   ]
  },
  {
   "attachments": {},
   "cell_type": "markdown",
   "metadata": {},
   "source": [
    "##### Problem 1: Create a dataframe to display the result as below:"
   ]
  },
  {
   "attachments": {},
   "cell_type": "markdown",
   "metadata": {},
   "source": [
    "<center>\n",
    "    <img src=\"https://cf-courses-data.s3.us.cloud-object-storage.appdomain.cloud/IBMDeveloperSkillsNetwork-PY0101EN-SkillsNetwork/labs/Module%204/images/Student_data.png\" width=\"300\" alt=\"Student Data\">\n",
    "</center>\n"
   ]
  },
  {
   "cell_type": "code",
   "execution_count": null,
   "metadata": {},
   "outputs": [],
   "source": [
    "a = {'Student':['David', 'Samuel', 'Terry', 'Evan'],\n",
    "     'Age':['27', '24', '22', '32'],\n",
    "     'Country':['UK', 'Canada', 'China', 'USA'],\n",
    "     'Course':['Python','Data Structures','Machine Learning','Web Development'],\n",
    "     'Marks':['85','72','89','76']}\n",
    "df1 = pd.DataFrame(a)\n",
    "df1"
   ]
  },
  {
   "attachments": {},
   "cell_type": "markdown",
   "metadata": {},
   "source": [
    "##### Problem 2: Retrieve the Marks column and assign it to a variable b"
   ]
  },
  {
   "cell_type": "code",
   "execution_count": null,
   "metadata": {},
   "outputs": [],
   "source": [
    "#write your code here\n",
    "b = df1[[\"Marks\"]]\n",
    "b"
   ]
  },
  {
   "attachments": {},
   "cell_type": "markdown",
   "metadata": {},
   "source": [
    "##### Problem 3: Retrieve the Country and Course columns and assign it to a variable c"
   ]
  },
  {
   "cell_type": "code",
   "execution_count": null,
   "metadata": {},
   "outputs": [],
   "source": [
    "#write your code here\n",
    "c = df1[[\"Course\", \"Country\"]]\n",
    "c"
   ]
  },
  {
   "attachments": {},
   "cell_type": "markdown",
   "metadata": {},
   "source": [
    "#### To view the column as a series, just use one bracket:"
   ]
  },
  {
   "cell_type": "code",
   "execution_count": null,
   "metadata": {},
   "outputs": [],
   "source": [
    "# Get the Student column as a series Object\n",
    "\n",
    "x = df1['Student']\n",
    "x"
   ]
  },
  {
   "attachments": {},
   "cell_type": "markdown",
   "metadata": {},
   "source": [
    "### Exercise 2: <code>loc()</code> and <code>iloc()</code> functions\n",
    "\n",
    "<code>loc()</code> is a label-based data selecting method which means that we have to pass the name of the row or column that we want to select. This method includes the last element of the range passed in it.\n",
    "\n",
    "Simple syntax for your understanding: \n",
    "\n",
    " - loc[row_label, column_label]\n",
    "\n",
    "<code>iloc()</code> is an indexed-based selecting method which means that we have to pass integer index in the method to select a specific row/column. This method does not include the last element of the range passed in it.\n",
    "\n",
    "Simple syntax for your understanding: \n",
    "   \n",
    " - iloc[row_index, column_index]\n",
    "\n",
    "<h4 id=\"data\">Let us see some examples on the same.</h4>"
   ]
  },
  {
   "cell_type": "code",
   "execution_count": null,
   "metadata": {},
   "outputs": [],
   "source": [
    "# Access the value on the first row and the first column\n",
    "\n",
    "df.iloc[0, 0]"
   ]
  },
  {
   "cell_type": "code",
   "execution_count": null,
   "metadata": {},
   "outputs": [],
   "source": [
    "# Access the value on the first row and the third column\n",
    "\n",
    "df.iloc[0,2]"
   ]
  },
  {
   "cell_type": "code",
   "execution_count": null,
   "metadata": {},
   "outputs": [],
   "source": [
    "# Access the column using the name\n",
    "\n",
    "df.loc[0, 'Salary']"
   ]
  },
  {
   "attachments": {},
   "cell_type": "markdown",
   "metadata": {},
   "source": [
    "Let us create a new dataframe called 'df2' and assign 'df' to it. Now, let us set the \"Name\" column as an index column using the method set_index().\n"
   ]
  },
  {
   "cell_type": "code",
   "execution_count": null,
   "metadata": {},
   "outputs": [],
   "source": [
    "df2=df\n",
    "df2=df2.set_index(\"Name\")"
   ]
  },
  {
   "cell_type": "code",
   "execution_count": null,
   "metadata": {},
   "outputs": [],
   "source": [
    "#To display the first 5 rows of new dataframe\n",
    "df2.head()"
   ]
  },
  {
   "cell_type": "code",
   "execution_count": null,
   "metadata": {},
   "outputs": [],
   "source": [
    "#Now, let us access the column using the name\n",
    "df2.loc['Jane', 'Salary']"
   ]
  },
  {
   "attachments": {},
   "cell_type": "markdown",
   "metadata": {},
   "source": [
    "### Exercise 3: Slicing\n",
    "\n",
    "Slicing uses the [] operator to select a set of rows and/or columns from a DataFrame.\n",
    "\n",
    "To slice out a set of rows, you use this syntax: data[start:stop], \n",
    "\n",
    "here the start represents the index from where to consider, and stop represents the index one step BEYOND the row you want to select. You can perform slicing using both the index and the name of the column.\n",
    "\n",
    "> NOTE: When slicing in pandas, the start bound is included in the output.\n",
    "\n",
    "So if you want to select rows 0, 1, and 2 your code would look like this: df.iloc[0:3].\n",
    "\n",
    "It means you are telling Python to start at index 0 and select rows 0, 1, 2 up to but not including 3.\n",
    "\n",
    "> NOTE: Labels must be found in the DataFrame or you will get a KeyError.\n",
    "\n",
    "Indexing by labels(i.e. using <code>loc()</code>) differs from indexing by integers (i.e. using <code>iloc()</code>). With <code>loc()</code>, both the start bound and the stop bound are inclusive. When using <code>loc()</code>, integers can be used, but the integers refer to the index label and not the position. \n",
    "\n",
    "For example, using <code>loc()</code> and select 1:4 will get a different result than using <code>iloc()</code> to select rows 1:4.\n",
    "\n",
    "<h4 id=\"data\">We can also select a specific data value using a row and column location within the DataFrame and iloc indexing.\n"
   ]
  },
  {
   "cell_type": "code",
   "execution_count": null,
   "metadata": {},
   "outputs": [],
   "source": [
    "# let us do the slicing using old dataframe df\n",
    "\n",
    "df.iloc[0:2, 0:3]"
   ]
  },
  {
   "cell_type": "code",
   "execution_count": null,
   "metadata": {},
   "outputs": [],
   "source": [
    "#let us do the slicing using loc() function on old dataframe df where index column is having labels as 0,1,2\n",
    "df.loc[0:2,'ID':'Department']"
   ]
  },
  {
   "cell_type": "code",
   "execution_count": null,
   "metadata": {},
   "outputs": [],
   "source": [
    "#let us do the slicing using loc() function on new dataframe df2 where index column is Name having labels: Rose, John and Jane\n",
    "df2.loc['Rose':'Jane', 'ID':'Department']"
   ]
  },
  {
   "attachments": {},
   "cell_type": "markdown",
   "metadata": {},
   "source": [
    "using <code>loc()</code> function, do slicing on old dataframe df to retrieve the Name, ID and department of index column having labels as 2,3\n"
   ]
  },
  {
   "cell_type": "code",
   "execution_count": null,
   "metadata": {},
   "outputs": [],
   "source": [
    "# Write your code below and press Shift+Enter to execute\n",
    "df.loc[2:3, \"Name\":\"Department\"]   # 3 is inclusive in loc() but not in iloc()"
   ]
  },
  {
   "cell_type": "code",
   "execution_count": null,
   "metadata": {},
   "outputs": [],
   "source": []
  },
  {
   "cell_type": "code",
   "execution_count": null,
   "metadata": {},
   "outputs": [],
   "source": []
  },
  {
   "cell_type": "code",
   "execution_count": null,
   "metadata": {},
   "outputs": [],
   "source": []
  },
  {
   "cell_type": "code",
   "execution_count": null,
   "metadata": {},
   "outputs": [],
   "source": []
  },
  {
   "cell_type": "code",
   "execution_count": null,
   "metadata": {},
   "outputs": [],
   "source": []
  },
  {
   "cell_type": "code",
   "execution_count": null,
   "metadata": {},
   "outputs": [],
   "source": []
  },
  {
   "cell_type": "code",
   "execution_count": null,
   "metadata": {},
   "outputs": [],
   "source": []
  },
  {
   "cell_type": "code",
   "execution_count": null,
   "metadata": {},
   "outputs": [],
   "source": []
  }
 ],
 "metadata": {
  "kernelspec": {
   "display_name": "Python 3",
   "language": "python",
   "name": "python3"
  },
  "language_info": {
   "name": "python",
   "version": "3.10.10"
  },
  "orig_nbformat": 4
 },
 "nbformat": 4,
 "nbformat_minor": 2
}
